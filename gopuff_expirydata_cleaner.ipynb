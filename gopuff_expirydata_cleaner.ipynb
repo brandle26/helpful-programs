{
 "cells": [
  {
   "cell_type": "code",
   "execution_count": 1,
   "id": "94d75041",
   "metadata": {},
   "outputs": [],
   "source": [
    "#importing necessary libraries\n",
    "import pandas as pd\n",
    "import datetime\n",
    "\n",
    "#read a csvfile into dataframe\n",
    "df1=pd.read_csv(\"Expiration Pull Out.csv\")\n"
   ]
  },
  {
   "cell_type": "code",
   "execution_count": 2,
   "id": "414b234e",
   "metadata": {},
   "outputs": [],
   "source": [
    "#dropping unnecessary columns form the dataframe\n",
    "df1.drop(columns=[\"Unnamed: 0\",\"Location ID\",\"Location Name\",\"Product ID\",\"Is Pull from Shelf Day? (Yes / No)\"], axis=1, inplace=True)"
   ]
  },
  {
   "cell_type": "code",
   "execution_count": 3,
   "id": "478e7d77",
   "metadata": {},
   "outputs": [],
   "source": [
    "#clean up posiiton id column\n",
    "df1[\"Position ID\"]=df1[\"Position ID\"].str.replace(r\"\\(.*\\)\", \" \",regex=True)"
   ]
  },
  {
   "cell_type": "code",
   "execution_count": 4,
   "id": "89c4acf1",
   "metadata": {},
   "outputs": [
    {
     "data": {
      "text/html": [
       "<div>\n",
       "<style scoped>\n",
       "    .dataframe tbody tr th:only-of-type {\n",
       "        vertical-align: middle;\n",
       "    }\n",
       "\n",
       "    .dataframe tbody tr th {\n",
       "        vertical-align: top;\n",
       "    }\n",
       "\n",
       "    .dataframe thead th {\n",
       "        text-align: right;\n",
       "    }\n",
       "</style>\n",
       "<table border=\"1\" class=\"dataframe\">\n",
       "  <thead>\n",
       "    <tr style=\"text-align: right;\">\n",
       "      <th></th>\n",
       "      <th>EAN (UPC)</th>\n",
       "      <th>Product Name</th>\n",
       "      <th>Category</th>\n",
       "      <th>Position ID</th>\n",
       "      <th>Pull From Shelf Days</th>\n",
       "      <th>Expiration Date</th>\n",
       "    </tr>\n",
       "  </thead>\n",
       "  <tbody>\n",
       "    <tr>\n",
       "      <th>58</th>\n",
       "      <td>5010292963094</td>\n",
       "      <td>Squeaky Bean Pastrami, 90g</td>\n",
       "      <td>Ready to Eat</td>\n",
       "      <td>D1C-B-01</td>\n",
       "      <td>2</td>\n",
       "      <td>2022-06-13</td>\n",
       "    </tr>\n",
       "    <tr>\n",
       "      <th>59</th>\n",
       "      <td>1000000000054, 1912318899138, 1912394134808</td>\n",
       "      <td>Cherry Tomatoes, 250g</td>\n",
       "      <td>Fruit &amp; Veg</td>\n",
       "      <td>L4C-D-01</td>\n",
       "      <td>1</td>\n",
       "      <td>2022-06-06</td>\n",
       "    </tr>\n",
       "    <tr>\n",
       "      <th>60</th>\n",
       "      <td>1000000006629, 5023734176501</td>\n",
       "      <td>Brand Coleslaw, 200g</td>\n",
       "      <td>Fruit &amp; Veg</td>\n",
       "      <td>L8C-B-01</td>\n",
       "      <td>1</td>\n",
       "      <td>2022-06-12</td>\n",
       "    </tr>\n",
       "    <tr>\n",
       "      <th>61</th>\n",
       "      <td>4060800302717</td>\n",
       "      <td>Pepsi Max Raspberry, 500ml</td>\n",
       "      <td>Soft Drinks</td>\n",
       "      <td>C13C-A-01</td>\n",
       "      <td>30</td>\n",
       "      <td>2022-06-29</td>\n",
       "    </tr>\n",
       "    <tr>\n",
       "      <th>62</th>\n",
       "      <td>5010044009643</td>\n",
       "      <td>Warburtons The Big 21, 700g</td>\n",
       "      <td>Bakery</td>\n",
       "      <td>K10A-D-01</td>\n",
       "      <td>1</td>\n",
       "      <td>2022-06-12</td>\n",
       "    </tr>\n",
       "  </tbody>\n",
       "</table>\n",
       "</div>"
      ],
      "text/plain": [
       "                                      EAN (UPC)                 Product Name  \\\n",
       "58                                5010292963094   Squeaky Bean Pastrami, 90g   \n",
       "59  1000000000054, 1912318899138, 1912394134808        Cherry Tomatoes, 250g   \n",
       "60                 1000000006629, 5023734176501         Brand Coleslaw, 200g   \n",
       "61                                4060800302717   Pepsi Max Raspberry, 500ml   \n",
       "62                                5010044009643  Warburtons The Big 21, 700g   \n",
       "\n",
       "        Category  Position ID  Pull From Shelf Days Expiration Date  \n",
       "58  Ready to Eat   D1C-B-01                       2      2022-06-13  \n",
       "59   Fruit & Veg   L4C-D-01                       1      2022-06-06  \n",
       "60   Fruit & Veg   L8C-B-01                       1      2022-06-12  \n",
       "61   Soft Drinks  C13C-A-01                      30      2022-06-29  \n",
       "62        Bakery  K10A-D-01                       1      2022-06-12  "
      ]
     },
     "execution_count": 4,
     "metadata": {},
     "output_type": "execute_result"
    }
   ],
   "source": [
    "df1.tail()"
   ]
  },
  {
   "cell_type": "code",
   "execution_count": 5,
   "id": "2082c990",
   "metadata": {},
   "outputs": [],
   "source": [
    "#convert expiration date to datetime format \n",
    "df1[\"Expiration Date\"]=pd.to_datetime(df1[\"Expiration Date\"]).dt.date\n",
    "\n"
   ]
  },
  {
   "cell_type": "code",
   "execution_count": 6,
   "id": "fbb319d5",
   "metadata": {},
   "outputs": [
    {
     "data": {
      "text/plain": [
       "array(['Snacks', 'Fruit & Veg', 'Meat & Fish', 'Beer', 'Baby',\n",
       "       'Eggs & Dairy', 'Soft Drinks', 'Ready to Eat', 'Toiletries',\n",
       "       'Health', 'Bakery', 'Ice Cream', 'Pets', 'Spirits',\n",
       "       'Meal Components', 'Sweets'], dtype=object)"
      ]
     },
     "execution_count": 6,
     "metadata": {},
     "output_type": "execute_result"
    }
   ],
   "source": [
    "#view the array of categories \n",
    "cats=df1[\"Category\"].unique()\n",
    "\n",
    "cats"
   ]
  },
  {
   "cell_type": "code",
   "execution_count": 7,
   "id": "e35a6c89",
   "metadata": {
    "scrolled": true
   },
   "outputs": [],
   "source": [
    "#create a conditinal statment to calculate expiry date based on product category\n",
    "#30 days for baby products, 1 day for ready to eat, two days for baker, eggs, dairy , fruit and Veg\n",
    "#7 days for rest of the category\n",
    "\n",
    "one_day_pull=pd.array([\"Ready to Eat\",\"Fruit & Veg\"])\n",
    "month_pull=pd.array([\"Baby\"])\n",
    "two_day_pull=pd.array([\"Fruit & Veg\",\"Eggs & Dairy\",\"Bakery\",\"Meat & Fish\"])\n",
    "\n",
    "\n"
   ]
  },
  {
   "cell_type": "code",
   "execution_count": 8,
   "id": "3c2d223c",
   "metadata": {},
   "outputs": [
    {
     "data": {
      "text/plain": [
       "EAN (UPC)                               5010251436515\n",
       "Product Name            Morrisons Prawn Crackers, 80g\n",
       "Category                                       Snacks\n",
       "Position ID                               I14A-D-01  \n",
       "Pull From Shelf Days                                7\n",
       "Expiration Date                            2022-06-17\n",
       "Name: 0, dtype: object"
      ]
     },
     "execution_count": 8,
     "metadata": {},
     "output_type": "execute_result"
    }
   ],
   "source": [
    "#using integer locaiton indexer to acces cells or row \n",
    "df1.iloc[0]"
   ]
  },
  {
   "cell_type": "code",
   "execution_count": 9,
   "id": "958c77cf",
   "metadata": {},
   "outputs": [
    {
     "data": {
      "text/plain": [
       "'Morrisons Prawn Crackers, 80g'"
      ]
     },
     "execution_count": 9,
     "metadata": {},
     "output_type": "execute_result"
    }
   ],
   "source": [
    "#iloc indexer can be used to grab a data in a specific cell. We can pass row index folowed by column index for that\n",
    "df1.iloc[0,1]"
   ]
  },
  {
   "cell_type": "code",
   "execution_count": 10,
   "id": "206fe0dc",
   "metadata": {},
   "outputs": [
    {
     "data": {
      "text/plain": [
       "'Snacks'"
      ]
     },
     "execution_count": 10,
     "metadata": {},
     "output_type": "execute_result"
    }
   ],
   "source": [
    "#you can also use loc indexer to get cell or row (does not have to be only integer)\n",
    "#pasisng list\n",
    "df1.loc[0,\"Category\"]"
   ]
  },
  {
   "cell_type": "code",
   "execution_count": 11,
   "id": "c76a4d97",
   "metadata": {},
   "outputs": [
    {
     "data": {
      "text/html": [
       "<div>\n",
       "<style scoped>\n",
       "    .dataframe tbody tr th:only-of-type {\n",
       "        vertical-align: middle;\n",
       "    }\n",
       "\n",
       "    .dataframe tbody tr th {\n",
       "        vertical-align: top;\n",
       "    }\n",
       "\n",
       "    .dataframe thead th {\n",
       "        text-align: right;\n",
       "    }\n",
       "</style>\n",
       "<table border=\"1\" class=\"dataframe\">\n",
       "  <thead>\n",
       "    <tr style=\"text-align: right;\">\n",
       "      <th></th>\n",
       "      <th>EAN (UPC)</th>\n",
       "      <th>Product Name</th>\n",
       "      <th>Category</th>\n",
       "      <th>Position ID</th>\n",
       "      <th>Pull From Shelf Days</th>\n",
       "      <th>Expiration Date</th>\n",
       "    </tr>\n",
       "  </thead>\n",
       "  <tbody>\n",
       "    <tr>\n",
       "      <th>21</th>\n",
       "      <td>5010044009667</td>\n",
       "      <td>Warburtons Make it Grain, 700g</td>\n",
       "      <td>Bakery</td>\n",
       "      <td>K10A-B-01</td>\n",
       "      <td>1</td>\n",
       "      <td>2022-06-11</td>\n",
       "    </tr>\n",
       "    <tr>\n",
       "      <th>35</th>\n",
       "      <td>5010044007830</td>\n",
       "      <td>Warburtons Gluten Free Artisan Tiger Bloomer, ...</td>\n",
       "      <td>Bakery</td>\n",
       "      <td>K10A-C-01</td>\n",
       "      <td>1</td>\n",
       "      <td>2022-06-12</td>\n",
       "    </tr>\n",
       "    <tr>\n",
       "      <th>38</th>\n",
       "      <td>5010525166025</td>\n",
       "      <td>Morrisons Jubilee Corgi Cake, 600g</td>\n",
       "      <td>Bakery</td>\n",
       "      <td>K4A-A-01</td>\n",
       "      <td>1</td>\n",
       "      <td>2022-06-11</td>\n",
       "    </tr>\n",
       "    <tr>\n",
       "      <th>42</th>\n",
       "      <td>5010044009650</td>\n",
       "      <td>Warburtons Plant Power, 700g</td>\n",
       "      <td>Bakery</td>\n",
       "      <td>K10A-C-01</td>\n",
       "      <td>1</td>\n",
       "      <td>2022-06-12</td>\n",
       "    </tr>\n",
       "    <tr>\n",
       "      <th>50</th>\n",
       "      <td>5010044009384</td>\n",
       "      <td>Warburtons Gluten Free Super Soft White Rolls,...</td>\n",
       "      <td>Bakery</td>\n",
       "      <td>K10A-C-01</td>\n",
       "      <td>1</td>\n",
       "      <td>2022-06-12</td>\n",
       "    </tr>\n",
       "    <tr>\n",
       "      <th>62</th>\n",
       "      <td>5010044009643</td>\n",
       "      <td>Warburtons The Big 21, 700g</td>\n",
       "      <td>Bakery</td>\n",
       "      <td>K10A-D-01</td>\n",
       "      <td>1</td>\n",
       "      <td>2022-06-12</td>\n",
       "    </tr>\n",
       "  </tbody>\n",
       "</table>\n",
       "</div>"
      ],
      "text/plain": [
       "        EAN (UPC)                                       Product Name Category  \\\n",
       "21  5010044009667                     Warburtons Make it Grain, 700g   Bakery   \n",
       "35  5010044007830  Warburtons Gluten Free Artisan Tiger Bloomer, ...   Bakery   \n",
       "38  5010525166025                 Morrisons Jubilee Corgi Cake, 600g   Bakery   \n",
       "42  5010044009650                       Warburtons Plant Power, 700g   Bakery   \n",
       "50  5010044009384  Warburtons Gluten Free Super Soft White Rolls,...   Bakery   \n",
       "62  5010044009643                        Warburtons The Big 21, 700g   Bakery   \n",
       "\n",
       "    Position ID  Pull From Shelf Days Expiration Date  \n",
       "21  K10A-B-01                       1      2022-06-11  \n",
       "35  K10A-C-01                       1      2022-06-12  \n",
       "38   K4A-A-01                       1      2022-06-11  \n",
       "42  K10A-C-01                       1      2022-06-12  \n",
       "50  K10A-C-01                       1      2022-06-12  \n",
       "62  K10A-D-01                       1      2022-06-12  "
      ]
     },
     "execution_count": 11,
     "metadata": {},
     "output_type": "execute_result"
    }
   ],
   "source": [
    "#you can get series with boolean values using comparision operator\n",
    "bakery_check=df1[\"Category\"]==\"Bakery\"\n",
    "df1[bakery_check]"
   ]
  },
  {
   "cell_type": "code",
   "execution_count": 12,
   "id": "5aa90f09",
   "metadata": {},
   "outputs": [
    {
     "data": {
      "text/html": [
       "<div>\n",
       "<style scoped>\n",
       "    .dataframe tbody tr th:only-of-type {\n",
       "        vertical-align: middle;\n",
       "    }\n",
       "\n",
       "    .dataframe tbody tr th {\n",
       "        vertical-align: top;\n",
       "    }\n",
       "\n",
       "    .dataframe thead th {\n",
       "        text-align: right;\n",
       "    }\n",
       "</style>\n",
       "<table border=\"1\" class=\"dataframe\">\n",
       "  <thead>\n",
       "    <tr style=\"text-align: right;\">\n",
       "      <th></th>\n",
       "      <th>EAN (UPC)</th>\n",
       "      <th>Product Name</th>\n",
       "      <th>Category</th>\n",
       "      <th>Position ID</th>\n",
       "      <th>Pull From Shelf Days</th>\n",
       "      <th>Expiration Date</th>\n",
       "    </tr>\n",
       "  </thead>\n",
       "  <tbody>\n",
       "    <tr>\n",
       "      <th>1</th>\n",
       "      <td>1000000000535</td>\n",
       "      <td>Rocket Leaves, 60g</td>\n",
       "      <td>Fruit &amp; Veg</td>\n",
       "      <td>L4C-B-01</td>\n",
       "      <td>1</td>\n",
       "      <td>2022-06-11</td>\n",
       "    </tr>\n",
       "    <tr>\n",
       "      <th>2</th>\n",
       "      <td>5010525121031</td>\n",
       "      <td>Morrisons Salmon Portions, 240g</td>\n",
       "      <td>Meat &amp; Fish</td>\n",
       "      <td>C19C-E-01</td>\n",
       "      <td>1</td>\n",
       "      <td>2022-06-12</td>\n",
       "    </tr>\n",
       "    <tr>\n",
       "      <th>4</th>\n",
       "      <td>5060678710057</td>\n",
       "      <td>THIS Isn't Bacon Plant-Based Rashers, 120g</td>\n",
       "      <td>Meat &amp; Fish</td>\n",
       "      <td>D2C-E-01</td>\n",
       "      <td>1</td>\n",
       "      <td>2022-06-11</td>\n",
       "    </tr>\n",
       "    <tr>\n",
       "      <th>6</th>\n",
       "      <td>5411188118121</td>\n",
       "      <td>Alpro No Sugars Plant Based Alternative to Yog...</td>\n",
       "      <td>Eggs &amp; Dairy</td>\n",
       "      <td>K9C-E-01</td>\n",
       "      <td>2</td>\n",
       "      <td>2022-06-11</td>\n",
       "    </tr>\n",
       "    <tr>\n",
       "      <th>8</th>\n",
       "      <td>1000000001334</td>\n",
       "      <td>Baby Spinach, 125g</td>\n",
       "      <td>Fruit &amp; Veg</td>\n",
       "      <td>L5C-B-01</td>\n",
       "      <td>1</td>\n",
       "      <td>2022-06-12</td>\n",
       "    </tr>\n",
       "    <tr>\n",
       "      <th>12</th>\n",
       "      <td>5010251614555</td>\n",
       "      <td>Morrisons Eggs Organic, 6s</td>\n",
       "      <td>Eggs &amp; Dairy</td>\n",
       "      <td>K10A-A-01</td>\n",
       "      <td>2</td>\n",
       "      <td>2022-06-08</td>\n",
       "    </tr>\n",
       "    <tr>\n",
       "      <th>15</th>\n",
       "      <td>5060626400375, 5060626400443</td>\n",
       "      <td>The Meatless Farm 2 Meat Free Burgers, 227g</td>\n",
       "      <td>Meat &amp; Fish</td>\n",
       "      <td>D2C-C-01</td>\n",
       "      <td>1</td>\n",
       "      <td>2022-06-12</td>\n",
       "    </tr>\n",
       "    <tr>\n",
       "      <th>19</th>\n",
       "      <td>1000000000535</td>\n",
       "      <td>Rocket Leaves, 60g</td>\n",
       "      <td>Fruit &amp; Veg</td>\n",
       "      <td>L4C-B-01</td>\n",
       "      <td>1</td>\n",
       "      <td>2022-06-12</td>\n",
       "    </tr>\n",
       "    <tr>\n",
       "      <th>21</th>\n",
       "      <td>5010044009667</td>\n",
       "      <td>Warburtons Make it Grain, 700g</td>\n",
       "      <td>Bakery</td>\n",
       "      <td>K10A-B-01</td>\n",
       "      <td>1</td>\n",
       "      <td>2022-06-11</td>\n",
       "    </tr>\n",
       "    <tr>\n",
       "      <th>30</th>\n",
       "      <td>5391115000302</td>\n",
       "      <td>Nomadic Strawberry Yoghurt &amp; Oat Clusters, 169g</td>\n",
       "      <td>Eggs &amp; Dairy</td>\n",
       "      <td>K8C-C-01</td>\n",
       "      <td>1</td>\n",
       "      <td>2022-06-12</td>\n",
       "    </tr>\n",
       "    <tr>\n",
       "      <th>31</th>\n",
       "      <td>5060426812460</td>\n",
       "      <td>Coconut Collaborative Greek Style Almond &amp; Coc...</td>\n",
       "      <td>Eggs &amp; Dairy</td>\n",
       "      <td>K12C-C-01</td>\n",
       "      <td>1</td>\n",
       "      <td>2022-06-12</td>\n",
       "    </tr>\n",
       "    <tr>\n",
       "      <th>33</th>\n",
       "      <td>5010525119045</td>\n",
       "      <td>Morrisons Conference Pears, 4pcs</td>\n",
       "      <td>Fruit &amp; Veg</td>\n",
       "      <td>L6A-C-01</td>\n",
       "      <td>1</td>\n",
       "      <td>2022-06-12</td>\n",
       "    </tr>\n",
       "    <tr>\n",
       "      <th>35</th>\n",
       "      <td>5010044007830</td>\n",
       "      <td>Warburtons Gluten Free Artisan Tiger Bloomer, ...</td>\n",
       "      <td>Bakery</td>\n",
       "      <td>K10A-C-01</td>\n",
       "      <td>1</td>\n",
       "      <td>2022-06-12</td>\n",
       "    </tr>\n",
       "    <tr>\n",
       "      <th>38</th>\n",
       "      <td>5010525166025</td>\n",
       "      <td>Morrisons Jubilee Corgi Cake, 600g</td>\n",
       "      <td>Bakery</td>\n",
       "      <td>K4A-A-01</td>\n",
       "      <td>1</td>\n",
       "      <td>2022-06-11</td>\n",
       "    </tr>\n",
       "    <tr>\n",
       "      <th>39</th>\n",
       "      <td>1000000001242</td>\n",
       "      <td>Red Sweet Pepper, 1pcs</td>\n",
       "      <td>Fruit &amp; Veg</td>\n",
       "      <td>L5C-B-01</td>\n",
       "      <td>1</td>\n",
       "      <td>2022-06-06</td>\n",
       "    </tr>\n",
       "    <tr>\n",
       "      <th>42</th>\n",
       "      <td>5010044009650</td>\n",
       "      <td>Warburtons Plant Power, 700g</td>\n",
       "      <td>Bakery</td>\n",
       "      <td>K10A-C-01</td>\n",
       "      <td>1</td>\n",
       "      <td>2022-06-12</td>\n",
       "    </tr>\n",
       "    <tr>\n",
       "      <th>48</th>\n",
       "      <td>5010251743828</td>\n",
       "      <td>Morrisons Sweetcorn Cobs, 2pcs</td>\n",
       "      <td>Fruit &amp; Veg</td>\n",
       "      <td>L2C-D-01</td>\n",
       "      <td>1</td>\n",
       "      <td>2022-06-11</td>\n",
       "    </tr>\n",
       "    <tr>\n",
       "      <th>50</th>\n",
       "      <td>5010044009384</td>\n",
       "      <td>Warburtons Gluten Free Super Soft White Rolls,...</td>\n",
       "      <td>Bakery</td>\n",
       "      <td>K10A-C-01</td>\n",
       "      <td>1</td>\n",
       "      <td>2022-06-12</td>\n",
       "    </tr>\n",
       "    <tr>\n",
       "      <th>59</th>\n",
       "      <td>1000000000054, 1912318899138, 1912394134808</td>\n",
       "      <td>Cherry Tomatoes, 250g</td>\n",
       "      <td>Fruit &amp; Veg</td>\n",
       "      <td>L4C-D-01</td>\n",
       "      <td>1</td>\n",
       "      <td>2022-06-06</td>\n",
       "    </tr>\n",
       "    <tr>\n",
       "      <th>60</th>\n",
       "      <td>1000000006629, 5023734176501</td>\n",
       "      <td>Brand Coleslaw, 200g</td>\n",
       "      <td>Fruit &amp; Veg</td>\n",
       "      <td>L8C-B-01</td>\n",
       "      <td>1</td>\n",
       "      <td>2022-06-12</td>\n",
       "    </tr>\n",
       "    <tr>\n",
       "      <th>62</th>\n",
       "      <td>5010044009643</td>\n",
       "      <td>Warburtons The Big 21, 700g</td>\n",
       "      <td>Bakery</td>\n",
       "      <td>K10A-D-01</td>\n",
       "      <td>1</td>\n",
       "      <td>2022-06-12</td>\n",
       "    </tr>\n",
       "  </tbody>\n",
       "</table>\n",
       "</div>"
      ],
      "text/plain": [
       "                                      EAN (UPC)  \\\n",
       "1                                 1000000000535   \n",
       "2                                 5010525121031   \n",
       "4                                 5060678710057   \n",
       "6                                 5411188118121   \n",
       "8                                 1000000001334   \n",
       "12                                5010251614555   \n",
       "15                 5060626400375, 5060626400443   \n",
       "19                                1000000000535   \n",
       "21                                5010044009667   \n",
       "30                                5391115000302   \n",
       "31                                5060426812460   \n",
       "33                                5010525119045   \n",
       "35                                5010044007830   \n",
       "38                                5010525166025   \n",
       "39                                1000000001242   \n",
       "42                                5010044009650   \n",
       "48                                5010251743828   \n",
       "50                                5010044009384   \n",
       "59  1000000000054, 1912318899138, 1912394134808   \n",
       "60                 1000000006629, 5023734176501   \n",
       "62                                5010044009643   \n",
       "\n",
       "                                         Product Name      Category  \\\n",
       "1                                  Rocket Leaves, 60g   Fruit & Veg   \n",
       "2                     Morrisons Salmon Portions, 240g   Meat & Fish   \n",
       "4          THIS Isn't Bacon Plant-Based Rashers, 120g   Meat & Fish   \n",
       "6   Alpro No Sugars Plant Based Alternative to Yog...  Eggs & Dairy   \n",
       "8                                  Baby Spinach, 125g   Fruit & Veg   \n",
       "12                         Morrisons Eggs Organic, 6s  Eggs & Dairy   \n",
       "15        The Meatless Farm 2 Meat Free Burgers, 227g   Meat & Fish   \n",
       "19                                 Rocket Leaves, 60g   Fruit & Veg   \n",
       "21                     Warburtons Make it Grain, 700g        Bakery   \n",
       "30    Nomadic Strawberry Yoghurt & Oat Clusters, 169g  Eggs & Dairy   \n",
       "31  Coconut Collaborative Greek Style Almond & Coc...  Eggs & Dairy   \n",
       "33                   Morrisons Conference Pears, 4pcs   Fruit & Veg   \n",
       "35  Warburtons Gluten Free Artisan Tiger Bloomer, ...        Bakery   \n",
       "38                 Morrisons Jubilee Corgi Cake, 600g        Bakery   \n",
       "39                             Red Sweet Pepper, 1pcs   Fruit & Veg   \n",
       "42                       Warburtons Plant Power, 700g        Bakery   \n",
       "48                     Morrisons Sweetcorn Cobs, 2pcs   Fruit & Veg   \n",
       "50  Warburtons Gluten Free Super Soft White Rolls,...        Bakery   \n",
       "59                              Cherry Tomatoes, 250g   Fruit & Veg   \n",
       "60                               Brand Coleslaw, 200g   Fruit & Veg   \n",
       "62                        Warburtons The Big 21, 700g        Bakery   \n",
       "\n",
       "    Position ID  Pull From Shelf Days Expiration Date  \n",
       "1    L4C-B-01                       1      2022-06-11  \n",
       "2   C19C-E-01                       1      2022-06-12  \n",
       "4    D2C-E-01                       1      2022-06-11  \n",
       "6    K9C-E-01                       2      2022-06-11  \n",
       "8    L5C-B-01                       1      2022-06-12  \n",
       "12  K10A-A-01                       2      2022-06-08  \n",
       "15   D2C-C-01                       1      2022-06-12  \n",
       "19   L4C-B-01                       1      2022-06-12  \n",
       "21  K10A-B-01                       1      2022-06-11  \n",
       "30   K8C-C-01                       1      2022-06-12  \n",
       "31  K12C-C-01                       1      2022-06-12  \n",
       "33   L6A-C-01                       1      2022-06-12  \n",
       "35  K10A-C-01                       1      2022-06-12  \n",
       "38   K4A-A-01                       1      2022-06-11  \n",
       "39   L5C-B-01                       1      2022-06-06  \n",
       "42  K10A-C-01                       1      2022-06-12  \n",
       "48   L2C-D-01                       1      2022-06-11  \n",
       "50  K10A-C-01                       1      2022-06-12  \n",
       "59   L4C-D-01                       1      2022-06-06  \n",
       "60   L8C-B-01                       1      2022-06-12  \n",
       "62  K10A-D-01                       1      2022-06-12  "
      ]
     },
     "execution_count": 12,
     "metadata": {},
     "output_type": "execute_result"
    }
   ],
   "source": [
    "#need to use isin()  method to check for membership or as membership operator ( to see if the value is in a list or an iterable)\n",
    "\n",
    "#create a filter\n",
    "fil=df1[\"Category\"].isin(two_day_pull)\n",
    "\n",
    "#using the filter created to filter the dataframe\n",
    "df1.loc[fil]"
   ]
  },
  {
   "cell_type": "code",
   "execution_count": 13,
   "id": "ebf6bec4",
   "metadata": {},
   "outputs": [],
   "source": [
    "#create a loop to check which category the producrt falls into\n",
    "\n",
    "#grabbing category series\n",
    "cats=df1[\"Category\"]\n",
    "exp_dates=df1[\"Expiration Date\"]"
   ]
  },
  {
   "cell_type": "code",
   "execution_count": 14,
   "id": "1ea87ac1",
   "metadata": {},
   "outputs": [],
   "source": [
    "def pulldate(cats,exp_dates):\n",
    "    pull_dates=[]\n",
    "    one_day=datetime.timedelta(1)\n",
    "    two_day=datetime.timedelta(2)\n",
    "    month_day=datetime.timedelta(30)\n",
    "    seven_day=datetime.timedelta(7)\n",
    "    for i in range(0,len(cats)):\n",
    "        if cats[i] in one_day_pull:\n",
    "            days=exp_dates[i]-one_day\n",
    "            pull_dates.append(days)\n",
    "        elif cats[i] in two_day_pull:\n",
    "            days=exp_dates[i]-two_day\n",
    "            pull_dates.append(days)\n",
    "        elif cats[i] in month_pull:\n",
    "            days=exp_dates[i]-month_day\n",
    "            pull_dates.append(days)\n",
    "        else:\n",
    "            days=exp_dates[i]-seven_day\n",
    "            pull_dates.append(days)\n",
    "            \n",
    "    return pull_dates\n",
    "        \n",
    "       \n",
    "    "
   ]
  },
  {
   "cell_type": "code",
   "execution_count": 15,
   "id": "9f66dfe3",
   "metadata": {},
   "outputs": [],
   "source": [
    "pullOut_dates=pd.Series(pulldate(cats,exp_dates))\n",
    "pullOut_dates=pullOut_dates"
   ]
  },
  {
   "cell_type": "code",
   "execution_count": 16,
   "id": "ad208efd",
   "metadata": {},
   "outputs": [],
   "source": [
    "df1[\"Pull Out Date\"]=pullOut_dates"
   ]
  },
  {
   "cell_type": "code",
   "execution_count": 17,
   "id": "33a0d01f",
   "metadata": {},
   "outputs": [],
   "source": [
    "today_date=pd.to_datetime(\"today\").date()"
   ]
  },
  {
   "cell_type": "code",
   "execution_count": 18,
   "id": "1aafd1b0",
   "metadata": {},
   "outputs": [
    {
     "data": {
      "text/plain": [
       "datetime.date(2022, 6, 14)"
      ]
     },
     "execution_count": 18,
     "metadata": {},
     "output_type": "execute_result"
    }
   ],
   "source": [
    "today_date"
   ]
  },
  {
   "cell_type": "code",
   "execution_count": 19,
   "id": "22aef1f2",
   "metadata": {},
   "outputs": [
    {
     "data": {
      "text/plain": [
       "True     44\n",
       "False    19\n",
       "Name: Pull Out Date, dtype: int64"
      ]
     },
     "execution_count": 19,
     "metadata": {},
     "output_type": "execute_result"
    }
   ],
   "source": [
    "\n",
    "filt=df1[\"Pull Out Date\"]<=today_date\n",
    "filt.value_counts()"
   ]
  },
  {
   "cell_type": "code",
   "execution_count": 20,
   "id": "d7eb3201",
   "metadata": {},
   "outputs": [],
   "source": [
    "df2=df1[filt]"
   ]
  },
  {
   "cell_type": "code",
   "execution_count": 21,
   "id": "4fc7b235",
   "metadata": {},
   "outputs": [],
   "source": [
    "#create a filter to drop fruit and veg row\n",
    "df2=df2[~(df2[\"Category\"]==\"Fruit & Veg\")]"
   ]
  },
  {
   "cell_type": "code",
   "execution_count": 37,
   "id": "3b40c70b",
   "metadata": {},
   "outputs": [],
   "source": [
    "df3=df1.drop(\"Pull Out Date\",axis=1)\n",
    "recom_dates=df1[\"Pull From Shelf Days\"]\n",
    "recom_pulldates=list()\n",
    "for i in range(0,len(recom_dates)):\n",
    "    recom_days=datetime.timedelta(int(recom_dates[i]))\n",
    "    recom_pulldate=exp_dates[i]-recom_days\n",
    "    recom_pulldates.append(recom_pulldate)\n",
    "    "
   ]
  },
  {
   "cell_type": "code",
   "execution_count": 40,
   "id": "4e3d140a",
   "metadata": {},
   "outputs": [],
   "source": [
    "df3[\"Recommended Pull Out Date\"]=recom_pulldates"
   ]
  },
  {
   "cell_type": "code",
   "execution_count": 41,
   "id": "40f3fe5e",
   "metadata": {},
   "outputs": [
    {
     "name": "stdout",
     "output_type": "stream",
     "text": [
      "Three csv file has been created\n",
      "Press Enter to exit\n"
     ]
    },
    {
     "data": {
      "text/plain": [
       "''"
      ]
     },
     "execution_count": 41,
     "metadata": {},
     "output_type": "execute_result"
    }
   ],
   "source": [
    "df2.to_csv(\"Expiration_Pull_Out_clean2.csv\",index=False)\n",
    "df1.to_csv(\"Expiration_Pull_Out_clean1.csv\",index=False)\n",
    "df3.to_csv(\"Expiration_Pull_Out_clean3_recommendeddate.csv\",index=False)\n",
    "print(\"Three csv file has been created\")\n",
    "input(\"Press Enter to exit\")"
   ]
  },
  {
   "cell_type": "code",
   "execution_count": null,
   "id": "c8b52009",
   "metadata": {},
   "outputs": [],
   "source": []
  }
 ],
 "metadata": {
  "kernelspec": {
   "display_name": "Python 3 (ipykernel)",
   "language": "python",
   "name": "python3"
  },
  "language_info": {
   "codemirror_mode": {
    "name": "ipython",
    "version": 3
   },
   "file_extension": ".py",
   "mimetype": "text/x-python",
   "name": "python",
   "nbconvert_exporter": "python",
   "pygments_lexer": "ipython3",
   "version": "3.9.12"
  }
 },
 "nbformat": 4,
 "nbformat_minor": 5
}
