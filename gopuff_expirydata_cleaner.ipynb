{
 "cells": [
  {
   "cell_type": "code",
   "execution_count": 1,
   "id": "94d75041",
   "metadata": {},
   "outputs": [],
   "source": [
    "#importing necessary libraries\n",
    "import pandas as pd\n",
    "import datetime\n",
    "\n",
    "#read a csvfile into dataframe\n",
    "df1=pd.read_csv(\"Expiration Pull Out.csv\")\n"
   ]
  },
  {
   "cell_type": "code",
   "execution_count": 2,
   "id": "414b234e",
   "metadata": {},
   "outputs": [],
   "source": [
    "#dropping unnecessary columns form the dataframe\n",
    "df1.drop(columns=[\"Unnamed: 0\",\"Location ID\",\"Location Name\",\"Product ID\",\"Is Pull from Shelf Day? (Yes / No)\"], axis=1, inplace=True)"
   ]
  },
  {
   "cell_type": "code",
   "execution_count": 3,
   "id": "478e7d77",
   "metadata": {},
   "outputs": [],
   "source": [
    "#clean up posiiton id column\n",
    "df1[\"Position ID\"]=df1[\"Position ID\"].str.replace(r\"\\(.*\\)\", \" \",regex=True)"
   ]
  },
  {
   "cell_type": "code",
   "execution_count": 4,
   "id": "89c4acf1",
   "metadata": {},
   "outputs": [
    {
     "data": {
      "text/html": [
       "<div>\n",
       "<style scoped>\n",
       "    .dataframe tbody tr th:only-of-type {\n",
       "        vertical-align: middle;\n",
       "    }\n",
       "\n",
       "    .dataframe tbody tr th {\n",
       "        vertical-align: top;\n",
       "    }\n",
       "\n",
       "    .dataframe thead th {\n",
       "        text-align: right;\n",
       "    }\n",
       "</style>\n",
       "<table border=\"1\" class=\"dataframe\">\n",
       "  <thead>\n",
       "    <tr style=\"text-align: right;\">\n",
       "      <th></th>\n",
       "      <th>EAN (UPC)</th>\n",
       "      <th>Product Name</th>\n",
       "      <th>Category</th>\n",
       "      <th>Position ID</th>\n",
       "      <th>Pull From Shelf Days</th>\n",
       "      <th>Expiration Date</th>\n",
       "    </tr>\n",
       "  </thead>\n",
       "  <tbody>\n",
       "    <tr>\n",
       "      <th>42</th>\n",
       "      <td>5010525119045</td>\n",
       "      <td>Morrisons Conference Pears, 4pcs</td>\n",
       "      <td>Fruit &amp; Veg</td>\n",
       "      <td>L6A-C-01</td>\n",
       "      <td>1</td>\n",
       "      <td>2022-06-07</td>\n",
       "    </tr>\n",
       "    <tr>\n",
       "      <th>43</th>\n",
       "      <td>5014067332450</td>\n",
       "      <td>The Collective Gourmet Passion Fruit Yoghurt, ...</td>\n",
       "      <td>Eggs &amp; Dairy</td>\n",
       "      <td>K9C-C-01</td>\n",
       "      <td>2</td>\n",
       "      <td>2022-06-08</td>\n",
       "    </tr>\n",
       "    <tr>\n",
       "      <th>44</th>\n",
       "      <td>5060782390008</td>\n",
       "      <td>Arrowtown Lime &amp; Elderflower Hard Seltzer, 330ml</td>\n",
       "      <td>Spirits</td>\n",
       "      <td>M1A-C-01</td>\n",
       "      <td>30</td>\n",
       "      <td>2022-06-17</td>\n",
       "    </tr>\n",
       "    <tr>\n",
       "      <th>45</th>\n",
       "      <td>4062300139008</td>\n",
       "      <td>Hipp Organic First Infant Milk, 800g</td>\n",
       "      <td>Baby</td>\n",
       "      <td>E4A-D-01</td>\n",
       "      <td>50</td>\n",
       "      <td>2022-07-14</td>\n",
       "    </tr>\n",
       "    <tr>\n",
       "      <th>46</th>\n",
       "      <td>5022313751047, 5022313729824</td>\n",
       "      <td>Tropicana Orange Juice Smooth, 250ml</td>\n",
       "      <td>Soft Drinks</td>\n",
       "      <td>C11C-B-01</td>\n",
       "      <td>3</td>\n",
       "      <td>2022-06-08</td>\n",
       "    </tr>\n",
       "  </tbody>\n",
       "</table>\n",
       "</div>"
      ],
      "text/plain": [
       "                       EAN (UPC)  \\\n",
       "42                 5010525119045   \n",
       "43                 5014067332450   \n",
       "44                 5060782390008   \n",
       "45                 4062300139008   \n",
       "46  5022313751047, 5022313729824   \n",
       "\n",
       "                                         Product Name      Category  \\\n",
       "42                   Morrisons Conference Pears, 4pcs   Fruit & Veg   \n",
       "43  The Collective Gourmet Passion Fruit Yoghurt, ...  Eggs & Dairy   \n",
       "44   Arrowtown Lime & Elderflower Hard Seltzer, 330ml       Spirits   \n",
       "45               Hipp Organic First Infant Milk, 800g          Baby   \n",
       "46               Tropicana Orange Juice Smooth, 250ml   Soft Drinks   \n",
       "\n",
       "    Position ID  Pull From Shelf Days Expiration Date  \n",
       "42   L6A-C-01                       1      2022-06-07  \n",
       "43   K9C-C-01                       2      2022-06-08  \n",
       "44   M1A-C-01                      30      2022-06-17  \n",
       "45   E4A-D-01                      50      2022-07-14  \n",
       "46  C11C-B-01                       3      2022-06-08  "
      ]
     },
     "execution_count": 4,
     "metadata": {},
     "output_type": "execute_result"
    }
   ],
   "source": [
    "df1.tail()"
   ]
  },
  {
   "cell_type": "code",
   "execution_count": 5,
   "id": "2082c990",
   "metadata": {},
   "outputs": [],
   "source": [
    "#convert expiration date to datetime format \n",
    "df1[\"Expiration Date\"]=pd.to_datetime(df1[\"Expiration Date\"]).dt.date\n",
    "\n"
   ]
  },
  {
   "cell_type": "code",
   "execution_count": 6,
   "id": "fbb319d5",
   "metadata": {},
   "outputs": [
    {
     "data": {
      "text/plain": [
       "array(['Snacks', 'Soft Drinks', 'Toiletries', 'Ice Cream', 'Beer',\n",
       "       'Bakery', 'Fruit & Veg', 'Sweets', 'Eggs & Dairy', 'Ready to Eat',\n",
       "       'Spirits', 'Meal Components', 'Meat & Fish', 'Baby', 'Pets'],\n",
       "      dtype=object)"
      ]
     },
     "execution_count": 6,
     "metadata": {},
     "output_type": "execute_result"
    }
   ],
   "source": [
    "#view the array of categories \n",
    "cats=df1[\"Category\"].unique()\n",
    "\n",
    "cats"
   ]
  },
  {
   "cell_type": "code",
   "execution_count": 7,
   "id": "e35a6c89",
   "metadata": {
    "scrolled": true
   },
   "outputs": [],
   "source": [
    "#create a conditinal statment to calculate expiry date based on product category\n",
    "#30 days for baby products, 1 day for ready to eat, two days for baker, eggs, dairy , fruit and Veg\n",
    "#7 days for rest of the category\n",
    "\n",
    "one_day_pull=pd.array([\"Ready to Eat\",\"Fruit & Veg\"])\n",
    "month_pull=pd.array([\"Baby\"])\n",
    "two_day_pull=pd.array([\"Fruit & Veg\",\"Eggs & Dairy\",\"Bakery\",\"Meat & Fish\"])\n",
    "\n",
    "\n"
   ]
  },
  {
   "cell_type": "code",
   "execution_count": 8,
   "id": "3c2d223c",
   "metadata": {},
   "outputs": [
    {
     "data": {
      "text/plain": [
       "EAN (UPC)                                         5060549450112\n",
       "Product Name            The Curators Original Beef Biltong, 28g\n",
       "Category                                                 Snacks\n",
       "Position ID                                         I13A-D-01  \n",
       "Pull From Shelf Days                                          7\n",
       "Expiration Date                                      2022-06-14\n",
       "Name: 0, dtype: object"
      ]
     },
     "execution_count": 8,
     "metadata": {},
     "output_type": "execute_result"
    }
   ],
   "source": [
    "#using integer locaiton indexer to acces cells or row \n",
    "df1.iloc[0]"
   ]
  },
  {
   "cell_type": "code",
   "execution_count": 9,
   "id": "958c77cf",
   "metadata": {},
   "outputs": [
    {
     "data": {
      "text/plain": [
       "'The Curators Original Beef Biltong, 28g'"
      ]
     },
     "execution_count": 9,
     "metadata": {},
     "output_type": "execute_result"
    }
   ],
   "source": [
    "#iloc indexer can be used to grab a data in a specific cell. We can pass row index folowed by column index for that\n",
    "df1.iloc[0,1]"
   ]
  },
  {
   "cell_type": "code",
   "execution_count": 10,
   "id": "206fe0dc",
   "metadata": {},
   "outputs": [
    {
     "data": {
      "text/plain": [
       "'Snacks'"
      ]
     },
     "execution_count": 10,
     "metadata": {},
     "output_type": "execute_result"
    }
   ],
   "source": [
    "#you can also use loc indexer to get cell or row (does not have to be only integer)\n",
    "#pasisng list\n",
    "df1.loc[0,\"Category\"]"
   ]
  },
  {
   "cell_type": "code",
   "execution_count": 11,
   "id": "c76a4d97",
   "metadata": {},
   "outputs": [
    {
     "data": {
      "text/html": [
       "<div>\n",
       "<style scoped>\n",
       "    .dataframe tbody tr th:only-of-type {\n",
       "        vertical-align: middle;\n",
       "    }\n",
       "\n",
       "    .dataframe tbody tr th {\n",
       "        vertical-align: top;\n",
       "    }\n",
       "\n",
       "    .dataframe thead th {\n",
       "        text-align: right;\n",
       "    }\n",
       "</style>\n",
       "<table border=\"1\" class=\"dataframe\">\n",
       "  <thead>\n",
       "    <tr style=\"text-align: right;\">\n",
       "      <th></th>\n",
       "      <th>EAN (UPC)</th>\n",
       "      <th>Product Name</th>\n",
       "      <th>Category</th>\n",
       "      <th>Position ID</th>\n",
       "      <th>Pull From Shelf Days</th>\n",
       "      <th>Expiration Date</th>\n",
       "    </tr>\n",
       "  </thead>\n",
       "  <tbody>\n",
       "    <tr>\n",
       "      <th>5</th>\n",
       "      <td>5010251931348</td>\n",
       "      <td>Morrisons Shortbread Mini Bites, 20pcs</td>\n",
       "      <td>Bakery</td>\n",
       "      <td>K4A-B-01</td>\n",
       "      <td>2</td>\n",
       "      <td>2022-06-09</td>\n",
       "    </tr>\n",
       "    <tr>\n",
       "      <th>35</th>\n",
       "      <td>5010044009384</td>\n",
       "      <td>Warburtons Gluten Free Super Soft White Rolls,...</td>\n",
       "      <td>Bakery</td>\n",
       "      <td>K10A-C-01</td>\n",
       "      <td>1</td>\n",
       "      <td>2022-06-08</td>\n",
       "    </tr>\n",
       "  </tbody>\n",
       "</table>\n",
       "</div>"
      ],
      "text/plain": [
       "        EAN (UPC)                                       Product Name Category  \\\n",
       "5   5010251931348             Morrisons Shortbread Mini Bites, 20pcs   Bakery   \n",
       "35  5010044009384  Warburtons Gluten Free Super Soft White Rolls,...   Bakery   \n",
       "\n",
       "    Position ID  Pull From Shelf Days Expiration Date  \n",
       "5    K4A-B-01                       2      2022-06-09  \n",
       "35  K10A-C-01                       1      2022-06-08  "
      ]
     },
     "execution_count": 11,
     "metadata": {},
     "output_type": "execute_result"
    }
   ],
   "source": [
    "#you can get series with boolean values using comparision operator\n",
    "bakery_check=df1[\"Category\"]==\"Bakery\"\n",
    "df1[bakery_check]"
   ]
  },
  {
   "cell_type": "code",
   "execution_count": 12,
   "id": "5aa90f09",
   "metadata": {},
   "outputs": [
    {
     "data": {
      "text/html": [
       "<div>\n",
       "<style scoped>\n",
       "    .dataframe tbody tr th:only-of-type {\n",
       "        vertical-align: middle;\n",
       "    }\n",
       "\n",
       "    .dataframe tbody tr th {\n",
       "        vertical-align: top;\n",
       "    }\n",
       "\n",
       "    .dataframe thead th {\n",
       "        text-align: right;\n",
       "    }\n",
       "</style>\n",
       "<table border=\"1\" class=\"dataframe\">\n",
       "  <thead>\n",
       "    <tr style=\"text-align: right;\">\n",
       "      <th></th>\n",
       "      <th>EAN (UPC)</th>\n",
       "      <th>Product Name</th>\n",
       "      <th>Category</th>\n",
       "      <th>Position ID</th>\n",
       "      <th>Pull From Shelf Days</th>\n",
       "      <th>Expiration Date</th>\n",
       "    </tr>\n",
       "  </thead>\n",
       "  <tbody>\n",
       "    <tr>\n",
       "      <th>5</th>\n",
       "      <td>5010251931348</td>\n",
       "      <td>Morrisons Shortbread Mini Bites, 20pcs</td>\n",
       "      <td>Bakery</td>\n",
       "      <td>K4A-B-01</td>\n",
       "      <td>2</td>\n",
       "      <td>2022-06-09</td>\n",
       "    </tr>\n",
       "    <tr>\n",
       "      <th>6</th>\n",
       "      <td>1000000000054, 1912318899138, 1912394134808</td>\n",
       "      <td>Cherry Tomatoes, 250g</td>\n",
       "      <td>Fruit &amp; Veg</td>\n",
       "      <td>L4C-D-01</td>\n",
       "      <td>1</td>\n",
       "      <td>2022-06-06</td>\n",
       "    </tr>\n",
       "    <tr>\n",
       "      <th>8</th>\n",
       "      <td>1000000000535</td>\n",
       "      <td>Rocket Leaves, 60g</td>\n",
       "      <td>Fruit &amp; Veg</td>\n",
       "      <td>L4C-B-01</td>\n",
       "      <td>1</td>\n",
       "      <td>2022-06-08</td>\n",
       "    </tr>\n",
       "    <tr>\n",
       "      <th>9</th>\n",
       "      <td>5010251730552</td>\n",
       "      <td>Morrisons Carrot Batons, 325g</td>\n",
       "      <td>Fruit &amp; Veg</td>\n",
       "      <td>L4C-E-01</td>\n",
       "      <td>1</td>\n",
       "      <td>2022-06-08</td>\n",
       "    </tr>\n",
       "    <tr>\n",
       "      <th>12</th>\n",
       "      <td>5056138201319</td>\n",
       "      <td>The Collective Dairy-Free Passion Fruit Yoghur...</td>\n",
       "      <td>Eggs &amp; Dairy</td>\n",
       "      <td>L8C-E-01</td>\n",
       "      <td>2</td>\n",
       "      <td>2022-06-08</td>\n",
       "    </tr>\n",
       "    <tr>\n",
       "      <th>14</th>\n",
       "      <td>1000000000955</td>\n",
       "      <td>Chiquita Bananas, 1bunch</td>\n",
       "      <td>Fruit &amp; Veg</td>\n",
       "      <td>L3A-A-01</td>\n",
       "      <td>1</td>\n",
       "      <td>2022-06-06</td>\n",
       "    </tr>\n",
       "    <tr>\n",
       "      <th>20</th>\n",
       "      <td>1000000001242</td>\n",
       "      <td>Red Sweet Pepper, 1pcs</td>\n",
       "      <td>Fruit &amp; Veg</td>\n",
       "      <td>L5C-B-01</td>\n",
       "      <td>1</td>\n",
       "      <td>2022-06-06</td>\n",
       "    </tr>\n",
       "    <tr>\n",
       "      <th>25</th>\n",
       "      <td>5010525121031</td>\n",
       "      <td>Morrisons Salmon Portions, 240g</td>\n",
       "      <td>Meat &amp; Fish</td>\n",
       "      <td>C19C-E-01</td>\n",
       "      <td>1</td>\n",
       "      <td>2022-06-08</td>\n",
       "    </tr>\n",
       "    <tr>\n",
       "      <th>28</th>\n",
       "      <td>1000000006636</td>\n",
       "      <td>Brand Braeburn apples, 6pcs</td>\n",
       "      <td>Fruit &amp; Veg</td>\n",
       "      <td>L6A-D-01</td>\n",
       "      <td>1</td>\n",
       "      <td>2022-06-07</td>\n",
       "    </tr>\n",
       "    <tr>\n",
       "      <th>30</th>\n",
       "      <td>1000000001334</td>\n",
       "      <td>Baby Spinach, 125g</td>\n",
       "      <td>Fruit &amp; Veg</td>\n",
       "      <td>L5C-B-01</td>\n",
       "      <td>1</td>\n",
       "      <td>2022-06-08</td>\n",
       "    </tr>\n",
       "    <tr>\n",
       "      <th>32</th>\n",
       "      <td>5010251614555</td>\n",
       "      <td>Morrisons Eggs Organic, 6s</td>\n",
       "      <td>Eggs &amp; Dairy</td>\n",
       "      <td>K10A-A-01</td>\n",
       "      <td>2</td>\n",
       "      <td>2022-06-08</td>\n",
       "    </tr>\n",
       "    <tr>\n",
       "      <th>35</th>\n",
       "      <td>5010044009384</td>\n",
       "      <td>Warburtons Gluten Free Super Soft White Rolls,...</td>\n",
       "      <td>Bakery</td>\n",
       "      <td>K10A-C-01</td>\n",
       "      <td>1</td>\n",
       "      <td>2022-06-08</td>\n",
       "    </tr>\n",
       "    <tr>\n",
       "      <th>42</th>\n",
       "      <td>5010525119045</td>\n",
       "      <td>Morrisons Conference Pears, 4pcs</td>\n",
       "      <td>Fruit &amp; Veg</td>\n",
       "      <td>L6A-C-01</td>\n",
       "      <td>1</td>\n",
       "      <td>2022-06-07</td>\n",
       "    </tr>\n",
       "    <tr>\n",
       "      <th>43</th>\n",
       "      <td>5014067332450</td>\n",
       "      <td>The Collective Gourmet Passion Fruit Yoghurt, ...</td>\n",
       "      <td>Eggs &amp; Dairy</td>\n",
       "      <td>K9C-C-01</td>\n",
       "      <td>2</td>\n",
       "      <td>2022-06-08</td>\n",
       "    </tr>\n",
       "  </tbody>\n",
       "</table>\n",
       "</div>"
      ],
      "text/plain": [
       "                                      EAN (UPC)  \\\n",
       "5                                 5010251931348   \n",
       "6   1000000000054, 1912318899138, 1912394134808   \n",
       "8                                 1000000000535   \n",
       "9                                 5010251730552   \n",
       "12                                5056138201319   \n",
       "14                                1000000000955   \n",
       "20                                1000000001242   \n",
       "25                                5010525121031   \n",
       "28                                1000000006636   \n",
       "30                                1000000001334   \n",
       "32                                5010251614555   \n",
       "35                                5010044009384   \n",
       "42                                5010525119045   \n",
       "43                                5014067332450   \n",
       "\n",
       "                                         Product Name      Category  \\\n",
       "5              Morrisons Shortbread Mini Bites, 20pcs        Bakery   \n",
       "6                               Cherry Tomatoes, 250g   Fruit & Veg   \n",
       "8                                  Rocket Leaves, 60g   Fruit & Veg   \n",
       "9                       Morrisons Carrot Batons, 325g   Fruit & Veg   \n",
       "12  The Collective Dairy-Free Passion Fruit Yoghur...  Eggs & Dairy   \n",
       "14                           Chiquita Bananas, 1bunch   Fruit & Veg   \n",
       "20                             Red Sweet Pepper, 1pcs   Fruit & Veg   \n",
       "25                    Morrisons Salmon Portions, 240g   Meat & Fish   \n",
       "28                        Brand Braeburn apples, 6pcs   Fruit & Veg   \n",
       "30                                 Baby Spinach, 125g   Fruit & Veg   \n",
       "32                         Morrisons Eggs Organic, 6s  Eggs & Dairy   \n",
       "35  Warburtons Gluten Free Super Soft White Rolls,...        Bakery   \n",
       "42                   Morrisons Conference Pears, 4pcs   Fruit & Veg   \n",
       "43  The Collective Gourmet Passion Fruit Yoghurt, ...  Eggs & Dairy   \n",
       "\n",
       "    Position ID  Pull From Shelf Days Expiration Date  \n",
       "5    K4A-B-01                       2      2022-06-09  \n",
       "6    L4C-D-01                       1      2022-06-06  \n",
       "8    L4C-B-01                       1      2022-06-08  \n",
       "9    L4C-E-01                       1      2022-06-08  \n",
       "12   L8C-E-01                       2      2022-06-08  \n",
       "14   L3A-A-01                       1      2022-06-06  \n",
       "20   L5C-B-01                       1      2022-06-06  \n",
       "25  C19C-E-01                       1      2022-06-08  \n",
       "28   L6A-D-01                       1      2022-06-07  \n",
       "30   L5C-B-01                       1      2022-06-08  \n",
       "32  K10A-A-01                       2      2022-06-08  \n",
       "35  K10A-C-01                       1      2022-06-08  \n",
       "42   L6A-C-01                       1      2022-06-07  \n",
       "43   K9C-C-01                       2      2022-06-08  "
      ]
     },
     "execution_count": 12,
     "metadata": {},
     "output_type": "execute_result"
    }
   ],
   "source": [
    "#need to use isin()  method to check for membership or as membership operator ( to see if the value is in a list or an iterable)\n",
    "\n",
    "#create a filter\n",
    "fil=df1[\"Category\"].isin(two_day_pull)\n",
    "\n",
    "#using the filter created to filter the dataframe\n",
    "df1.loc[fil]"
   ]
  },
  {
   "cell_type": "code",
   "execution_count": 13,
   "id": "ebf6bec4",
   "metadata": {},
   "outputs": [],
   "source": [
    "#create a loop to check which category the producrt falls into\n",
    "\n",
    "#grabbing category series\n",
    "cats=df1[\"Category\"]\n",
    "exp_dates=df1[\"Expiration Date\"]"
   ]
  },
  {
   "cell_type": "code",
   "execution_count": 14,
   "id": "1ea87ac1",
   "metadata": {},
   "outputs": [],
   "source": [
    "def pulldate(cats,exp_dates):\n",
    "    pull_dates=[]\n",
    "    one_day=datetime.timedelta(1)\n",
    "    two_day=datetime.timedelta(2)\n",
    "    month_day=datetime.timedelta(30)\n",
    "    seven_day=datetime.timedelta(7)\n",
    "    for i in range(0,len(cats)):\n",
    "        if cats[i] in one_day_pull:\n",
    "            days=exp_dates[i]-one_day\n",
    "            pull_dates.append(days)\n",
    "        elif cats[i] in two_day_pull:\n",
    "            days=exp_dates[i]-two_day\n",
    "            pull_dates.append(days)\n",
    "        elif cats[i] in month_pull:\n",
    "            days=exp_dates[i]-month_day\n",
    "            pull_dates.append(days)\n",
    "        else:\n",
    "            days=exp_dates[i]-seven_day\n",
    "            pull_dates.append(days)\n",
    "            \n",
    "    return pull_dates\n",
    "        \n",
    "       \n",
    "    "
   ]
  },
  {
   "cell_type": "code",
   "execution_count": 15,
   "id": "9f66dfe3",
   "metadata": {},
   "outputs": [],
   "source": [
    "pullOut_dates=pd.Series(pulldate(cats,exp_dates))\n",
    "pullOut_dates=pullOut_dates"
   ]
  },
  {
   "cell_type": "code",
   "execution_count": 16,
   "id": "ad208efd",
   "metadata": {},
   "outputs": [],
   "source": [
    "df1[\"Pull Out Date\"]=pullOut_dates"
   ]
  },
  {
   "cell_type": "code",
   "execution_count": 17,
   "id": "aee7839f",
   "metadata": {},
   "outputs": [],
   "source": [
    "# df1.to_csv(\"Expiration_Pull_Out_Clean.csv\",index=False)\n",
    "# print(\"A csv file has been created\")\n",
    "# input(\"Press a button to exit\")"
   ]
  },
  {
   "cell_type": "code",
   "execution_count": 18,
   "id": "33a0d01f",
   "metadata": {},
   "outputs": [],
   "source": [
    "today_date=pd.to_datetime(\"today\").date()"
   ]
  },
  {
   "cell_type": "code",
   "execution_count": 19,
   "id": "1aafd1b0",
   "metadata": {},
   "outputs": [
    {
     "data": {
      "text/plain": [
       "datetime.date(2022, 6, 10)"
      ]
     },
     "execution_count": 19,
     "metadata": {},
     "output_type": "execute_result"
    }
   ],
   "source": [
    "today_date"
   ]
  },
  {
   "cell_type": "code",
   "execution_count": 20,
   "id": "22aef1f2",
   "metadata": {},
   "outputs": [
    {
     "data": {
      "text/plain": [
       "True     31\n",
       "False    16\n",
       "Name: Pull Out Date, dtype: int64"
      ]
     },
     "execution_count": 20,
     "metadata": {},
     "output_type": "execute_result"
    }
   ],
   "source": [
    "\n",
    "filt=df1[\"Pull Out Date\"]<=today_date\n",
    "filt.value_counts()"
   ]
  },
  {
   "cell_type": "code",
   "execution_count": 21,
   "id": "d7eb3201",
   "metadata": {},
   "outputs": [
    {
     "data": {
      "text/plain": [
       "47"
      ]
     },
     "execution_count": 21,
     "metadata": {},
     "output_type": "execute_result"
    }
   ],
   "source": [
    "df2=df1[filt]"
   ]
  },
  {
   "cell_type": "code",
   "execution_count": 22,
   "id": "4fc7b235",
   "metadata": {},
   "outputs": [],
   "source": [
    "#create a filter to drop fruit and veg row\n",
    "df2=df2[~(df2[\"Category\"]==\"Fruit & Veg\")]"
   ]
  },
  {
   "cell_type": "code",
   "execution_count": 23,
   "id": "d365c846",
   "metadata": {},
   "outputs": [
    {
     "name": "stdout",
     "output_type": "stream",
     "text": [
      "TWo csv file has been created\n",
      "Press Enter to exit\n"
     ]
    },
    {
     "data": {
      "text/plain": [
       "''"
      ]
     },
     "execution_count": 23,
     "metadata": {},
     "output_type": "execute_result"
    }
   ],
   "source": [
    "df2.to_csv(\"Expiration_Pull_Out_clean2.csv\",index=False)\n",
    "df1.to_csv(\"Expiration_Pull_Out_clean1.csv\",index=False)\n",
    "print(\"TWo csv file has been created\")\n",
    "input(\"Press Enter to exit\")"
   ]
  },
  {
   "cell_type": "code",
   "execution_count": null,
   "id": "02c82456",
   "metadata": {},
   "outputs": [],
   "source": []
  }
 ],
 "metadata": {
  "kernelspec": {
   "display_name": "Python 3 (ipykernel)",
   "language": "python",
   "name": "python3"
  },
  "language_info": {
   "codemirror_mode": {
    "name": "ipython",
    "version": 3
   },
   "file_extension": ".py",
   "mimetype": "text/x-python",
   "name": "python",
   "nbconvert_exporter": "python",
   "pygments_lexer": "ipython3",
   "version": "3.9.12"
  }
 },
 "nbformat": 4,
 "nbformat_minor": 5
}
